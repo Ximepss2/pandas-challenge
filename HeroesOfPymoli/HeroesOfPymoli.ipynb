{
 "cells": [
  {
   "cell_type": "code",
   "execution_count": 2,
   "metadata": {},
   "outputs": [],
   "source": [
    "import pandas as pd\n",
    "import numpy as np"
   ]
  },
  {
   "cell_type": "code",
   "execution_count": 3,
   "metadata": {},
   "outputs": [],
   "source": [
    "file_to_load = \"pandas-challenge/HeroesOfPymoli/Resources/HeroesOfPymoli.csv\""
   ]
  },
  {
   "cell_type": "code",
   "execution_count": 4,
   "metadata": {
    "scrolled": true
   },
   "outputs": [
    {
     "data": {
      "text/html": [
       "<div>\n",
       "<style scoped>\n",
       "    .dataframe tbody tr th:only-of-type {\n",
       "        vertical-align: middle;\n",
       "    }\n",
       "\n",
       "    .dataframe tbody tr th {\n",
       "        vertical-align: top;\n",
       "    }\n",
       "\n",
       "    .dataframe thead th {\n",
       "        text-align: right;\n",
       "    }\n",
       "</style>\n",
       "<table border=\"1\" class=\"dataframe\">\n",
       "  <thead>\n",
       "    <tr style=\"text-align: right;\">\n",
       "      <th></th>\n",
       "      <th>Purchase ID</th>\n",
       "      <th>SN</th>\n",
       "      <th>Age</th>\n",
       "      <th>Gender</th>\n",
       "      <th>Item ID</th>\n",
       "      <th>Item Name</th>\n",
       "      <th>Price</th>\n",
       "    </tr>\n",
       "  </thead>\n",
       "  <tbody>\n",
       "    <tr>\n",
       "      <th>0</th>\n",
       "      <td>0</td>\n",
       "      <td>Lisim78</td>\n",
       "      <td>20</td>\n",
       "      <td>Male</td>\n",
       "      <td>108</td>\n",
       "      <td>Extraction, Quickblade Of Trembling Hands</td>\n",
       "      <td>3.53</td>\n",
       "    </tr>\n",
       "    <tr>\n",
       "      <th>1</th>\n",
       "      <td>1</td>\n",
       "      <td>Lisovynya38</td>\n",
       "      <td>40</td>\n",
       "      <td>Male</td>\n",
       "      <td>143</td>\n",
       "      <td>Frenzied Scimitar</td>\n",
       "      <td>1.56</td>\n",
       "    </tr>\n",
       "    <tr>\n",
       "      <th>2</th>\n",
       "      <td>2</td>\n",
       "      <td>Ithergue48</td>\n",
       "      <td>24</td>\n",
       "      <td>Male</td>\n",
       "      <td>92</td>\n",
       "      <td>Final Critic</td>\n",
       "      <td>4.88</td>\n",
       "    </tr>\n",
       "    <tr>\n",
       "      <th>3</th>\n",
       "      <td>3</td>\n",
       "      <td>Chamassasya86</td>\n",
       "      <td>24</td>\n",
       "      <td>Male</td>\n",
       "      <td>100</td>\n",
       "      <td>Blindscythe</td>\n",
       "      <td>3.27</td>\n",
       "    </tr>\n",
       "    <tr>\n",
       "      <th>4</th>\n",
       "      <td>4</td>\n",
       "      <td>Iskosia90</td>\n",
       "      <td>23</td>\n",
       "      <td>Male</td>\n",
       "      <td>131</td>\n",
       "      <td>Fury</td>\n",
       "      <td>1.44</td>\n",
       "    </tr>\n",
       "  </tbody>\n",
       "</table>\n",
       "</div>"
      ],
      "text/plain": [
       "   Purchase ID             SN  Age Gender  Item ID  \\\n",
       "0            0        Lisim78   20   Male      108   \n",
       "1            1    Lisovynya38   40   Male      143   \n",
       "2            2     Ithergue48   24   Male       92   \n",
       "3            3  Chamassasya86   24   Male      100   \n",
       "4            4      Iskosia90   23   Male      131   \n",
       "\n",
       "                                   Item Name  Price  \n",
       "0  Extraction, Quickblade Of Trembling Hands   3.53  \n",
       "1                          Frenzied Scimitar   1.56  \n",
       "2                               Final Critic   4.88  \n",
       "3                                Blindscythe   3.27  \n",
       "4                                       Fury   1.44  "
      ]
     },
     "execution_count": 4,
     "metadata": {},
     "output_type": "execute_result"
    }
   ],
   "source": [
    "data = pd.read_csv(file_to_load)\n",
    "data.head()"
   ]
  },
  {
   "cell_type": "markdown",
   "metadata": {},
   "source": [
    "## Player count"
   ]
  },
  {
   "cell_type": "code",
   "execution_count": 5,
   "metadata": {},
   "outputs": [
    {
     "name": "stdout",
     "output_type": "stream",
     "text": [
      "The total number of players is 576\n"
     ]
    }
   ],
   "source": [
    "#Total Number of players\n",
    "print(f\"The total number of players is {data['SN'].nunique()}\")"
   ]
  },
  {
   "cell_type": "markdown",
   "metadata": {},
   "source": [
    "## Purchasing Analysis"
   ]
  },
  {
   "cell_type": "code",
   "execution_count": 6,
   "metadata": {},
   "outputs": [
    {
     "name": "stdout",
     "output_type": "stream",
     "text": [
      "The number of unique items is 183\n",
      "The average purchase price is 3.05\n",
      "The total revenue is 2379.77\n"
     ]
    }
   ],
   "source": [
    "#Number of unique items\n",
    "unique_items = data[\"Item ID\"].unique()\n",
    "print(f\"The number of unique items is {len(unique_items)}\")\n",
    "#Average purchase price\n",
    "print(f\"The average purchase price is {round(data['Price'].mean(),2)}\")\n",
    "#Total number of purchases\n",
    "#Total Revenue\n",
    "print(f\"The total revenue is {data['Price'].sum()}\")"
   ]
  },
  {
   "cell_type": "markdown",
   "metadata": {},
   "source": [
    "## Gender Demographics "
   ]
  },
  {
   "cell_type": "code",
   "execution_count": 7,
   "metadata": {},
   "outputs": [
    {
     "name": "stdout",
     "output_type": "stream",
     "text": [
      "There is a total of 113 women\n",
      "The percentage of females is 14.49 % \n",
      "There is a total of 652 men\n",
      "The percentage of males is 83.59 % \n",
      "There is a total of 15 non-specific gender players\n",
      "The percentage of non-specific gender players is 1.92 % \n"
     ]
    }
   ],
   "source": [
    "females = data[data['Gender']=='Female']\n",
    "print(f\"There is a total of {females['Gender'].count()} women\")\n",
    "print(f\"The percentage of females is {round((females['Gender'].count()/data['Gender'].count())*100,2)} % \")\n",
    "males = data[data['Gender']=='Male']\n",
    "print(f\"There is a total of {males['Gender'].count()} men\")\n",
    "print(f\"The percentage of males is {round((males['Gender'].count()/data['Gender'].count())*100,2)} % \")\n",
    "others = data[(data['Gender']!='Female') & (data['Gender']!='Male')]\n",
    "print(f\"There is a total of {others['Gender'].count()} non-specific gender players\")\n",
    "print(f\"The percentage of non-specific gender players is {round((others['Gender'].count()/data['Gender'].count())*100,2)} % \")      "
   ]
  },
  {
   "cell_type": "markdown",
   "metadata": {},
   "source": [
    "## Age demographics"
   ]
  },
  {
   "cell_type": "code",
   "execution_count": 8,
   "metadata": {},
   "outputs": [
    {
     "data": {
      "text/html": [
       "<div>\n",
       "<style scoped>\n",
       "    .dataframe tbody tr th:only-of-type {\n",
       "        vertical-align: middle;\n",
       "    }\n",
       "\n",
       "    .dataframe tbody tr th {\n",
       "        vertical-align: top;\n",
       "    }\n",
       "\n",
       "    .dataframe thead th {\n",
       "        text-align: right;\n",
       "    }\n",
       "</style>\n",
       "<table border=\"1\" class=\"dataframe\">\n",
       "  <thead>\n",
       "    <tr style=\"text-align: right;\">\n",
       "      <th></th>\n",
       "      <th>Purchase ID</th>\n",
       "      <th>SN</th>\n",
       "      <th>Age</th>\n",
       "      <th>Gender</th>\n",
       "      <th>Item ID</th>\n",
       "      <th>Item Name</th>\n",
       "      <th>Price</th>\n",
       "      <th>Age Group</th>\n",
       "    </tr>\n",
       "  </thead>\n",
       "  <tbody>\n",
       "    <tr>\n",
       "      <th>0</th>\n",
       "      <td>0</td>\n",
       "      <td>Lisim78</td>\n",
       "      <td>20</td>\n",
       "      <td>Male</td>\n",
       "      <td>108</td>\n",
       "      <td>Extraction, Quickblade Of Trembling Hands</td>\n",
       "      <td>3.53</td>\n",
       "      <td>(19,23]</td>\n",
       "    </tr>\n",
       "    <tr>\n",
       "      <th>1</th>\n",
       "      <td>1</td>\n",
       "      <td>Lisovynya38</td>\n",
       "      <td>40</td>\n",
       "      <td>Male</td>\n",
       "      <td>143</td>\n",
       "      <td>Frenzied Scimitar</td>\n",
       "      <td>1.56</td>\n",
       "      <td>(39,43]</td>\n",
       "    </tr>\n",
       "    <tr>\n",
       "      <th>2</th>\n",
       "      <td>2</td>\n",
       "      <td>Ithergue48</td>\n",
       "      <td>24</td>\n",
       "      <td>Male</td>\n",
       "      <td>92</td>\n",
       "      <td>Final Critic</td>\n",
       "      <td>4.88</td>\n",
       "      <td>(23,27]</td>\n",
       "    </tr>\n",
       "    <tr>\n",
       "      <th>3</th>\n",
       "      <td>3</td>\n",
       "      <td>Chamassasya86</td>\n",
       "      <td>24</td>\n",
       "      <td>Male</td>\n",
       "      <td>100</td>\n",
       "      <td>Blindscythe</td>\n",
       "      <td>3.27</td>\n",
       "      <td>(23,27]</td>\n",
       "    </tr>\n",
       "    <tr>\n",
       "      <th>4</th>\n",
       "      <td>4</td>\n",
       "      <td>Iskosia90</td>\n",
       "      <td>23</td>\n",
       "      <td>Male</td>\n",
       "      <td>131</td>\n",
       "      <td>Fury</td>\n",
       "      <td>1.44</td>\n",
       "      <td>(19,23]</td>\n",
       "    </tr>\n",
       "  </tbody>\n",
       "</table>\n",
       "</div>"
      ],
      "text/plain": [
       "   Purchase ID             SN  Age Gender  Item ID  \\\n",
       "0            0        Lisim78   20   Male      108   \n",
       "1            1    Lisovynya38   40   Male      143   \n",
       "2            2     Ithergue48   24   Male       92   \n",
       "3            3  Chamassasya86   24   Male      100   \n",
       "4            4      Iskosia90   23   Male      131   \n",
       "\n",
       "                                   Item Name  Price Age Group  \n",
       "0  Extraction, Quickblade Of Trembling Hands   3.53   (19,23]  \n",
       "1                          Frenzied Scimitar   1.56   (39,43]  \n",
       "2                               Final Critic   4.88   (23,27]  \n",
       "3                                Blindscythe   3.27   (23,27]  \n",
       "4                                       Fury   1.44   (19,23]  "
      ]
     },
     "execution_count": 8,
     "metadata": {},
     "output_type": "execute_result"
    }
   ],
   "source": [
    "#Separate each player per age group\n",
    "bins = [0,10,14,19,23,27,31,35,39,43,47]\n",
    "group_names = [\"<10\",\"(10,14]\",\"(14,19]\",\"(19,23]\",\"(23,27]\",\"(27,31]\",\"(31,35]\",\"(35,39]\",\"(39,43]\",\"(43,47]\"]\n",
    "data[\"Age Group\"] = pd.cut(data[\"Age\"], bins, labels=group_names)\n",
    "data.head()"
   ]
  },
  {
   "cell_type": "code",
   "execution_count": 17,
   "metadata": {},
   "outputs": [
    {
     "name": "stdout",
     "output_type": "stream",
     "text": [
      "Purchase count\n",
      "Age Group\n",
      "<10         32\n",
      "(10,14]     19\n",
      "(14,19]    136\n",
      "(19,23]    298\n",
      "(23,27]    150\n",
      "(27,31]     60\n",
      "(31,35]     45\n",
      "(35,39]     27\n",
      "(39,43]     10\n",
      "(43,47]      3\n",
      "Name: Purchase ID, dtype: int64\n",
      "Average Purchase Price\n",
      "Age Group\n",
      "<10        3.40\n",
      "(10,14]    2.68\n",
      "(14,19]    3.04\n",
      "(19,23]    3.03\n",
      "(23,27]    3.06\n",
      "(27,31]    2.97\n",
      "(31,35]    2.93\n",
      "(35,39]    3.54\n",
      "(39,43]    3.12\n",
      "(43,47]    2.35\n",
      "Name: Price, dtype: float64\n",
      "Total Purchase Value\n",
      "Age Group\n",
      "<10        108.96\n",
      "(10,14]     50.95\n",
      "(14,19]    412.89\n",
      "(19,23]    903.84\n",
      "(23,27]    459.54\n",
      "(27,31]    178.05\n",
      "(31,35]    131.66\n",
      "(35,39]     95.64\n",
      "(39,43]     31.18\n",
      "(43,47]      7.06\n",
      "Name: Price, dtype: float64\n",
      "Average Purchase Total per Person by Age Group\n",
      "Age Group\n",
      "<10        4.54\n",
      "(10,14]    3.40\n",
      "(14,19]    3.86\n",
      "(19,23]    4.30\n",
      "(23,27]    4.14\n",
      "(27,31]    4.05\n",
      "(31,35]    4.11\n",
      "(35,39]    4.55\n",
      "(39,43]    3.46\n",
      "(43,47]    2.35\n",
      "dtype: float64\n"
     ]
    }
   ],
   "source": [
    "grouped_data = data.groupby(\"Age Group\")\n",
    "#Purchase count\n",
    "print(\"Purchase count\")\n",
    "print(grouped_data[\"Purchase ID\"].count())\n",
    "#Average Purchase Price\n",
    "print(\"Average Purchase Price\")\n",
    "print(round(grouped_data[\"Price\"].mean(),2))\n",
    "#Total Purchase Value\n",
    "print(\"Total Purchase Value\")\n",
    "print(round(grouped_data[\"Price\"].sum(),2))\n",
    "#Average Purchase Total per Person by Age Group\n",
    "print(\"Average Purchase Total per Person by Age Group\")\n",
    "print(round(grouped_data[\"Price\"].sum()/grouped_data['SN'].nunique(),2))"
   ]
  },
  {
   "cell_type": "markdown",
   "metadata": {},
   "source": [
    "## Top Spenders"
   ]
  },
  {
   "cell_type": "code",
   "execution_count": 66,
   "metadata": {},
   "outputs": [
    {
     "data": {
      "text/plain": [
       "[18.96, 15.45, 13.83, 13.619999999999997, 13.1]"
      ]
     },
     "execution_count": 66,
     "metadata": {},
     "output_type": "execute_result"
    }
   ],
   "source": [
    "grouped_data2 = data.groupby(\"SN\")\n",
    "precios = grouped_data2['Price'].sum()\n",
    "inter = precios.sort_values(ascending = False).head(5)\n",
    "nombres = inter.index.values.tolist()"
   ]
  },
  {
   "cell_type": "code",
   "execution_count": 86,
   "metadata": {},
   "outputs": [
    {
     "data": {
      "text/html": [
       "<div>\n",
       "<style scoped>\n",
       "    .dataframe tbody tr th:only-of-type {\n",
       "        vertical-align: middle;\n",
       "    }\n",
       "\n",
       "    .dataframe tbody tr th {\n",
       "        vertical-align: top;\n",
       "    }\n",
       "\n",
       "    .dataframe thead th {\n",
       "        text-align: right;\n",
       "    }\n",
       "</style>\n",
       "<table border=\"1\" class=\"dataframe\">\n",
       "  <thead>\n",
       "    <tr style=\"text-align: right;\">\n",
       "      <th></th>\n",
       "      <th>Names</th>\n",
       "      <th>Purchase_count</th>\n",
       "      <th>Average_purchase_price</th>\n",
       "      <th>Total_purchase_value</th>\n",
       "    </tr>\n",
       "  </thead>\n",
       "  <tbody>\n",
       "    <tr>\n",
       "      <th>0</th>\n",
       "      <td>Lisosia93</td>\n",
       "      <td>5</td>\n",
       "      <td>3.792000</td>\n",
       "      <td>18.96</td>\n",
       "    </tr>\n",
       "    <tr>\n",
       "      <th>1</th>\n",
       "      <td>Idastidru52</td>\n",
       "      <td>4</td>\n",
       "      <td>3.862500</td>\n",
       "      <td>15.45</td>\n",
       "    </tr>\n",
       "    <tr>\n",
       "      <th>2</th>\n",
       "      <td>Chamjask73</td>\n",
       "      <td>3</td>\n",
       "      <td>4.610000</td>\n",
       "      <td>13.83</td>\n",
       "    </tr>\n",
       "    <tr>\n",
       "      <th>3</th>\n",
       "      <td>Iral74</td>\n",
       "      <td>4</td>\n",
       "      <td>3.405000</td>\n",
       "      <td>13.62</td>\n",
       "    </tr>\n",
       "    <tr>\n",
       "      <th>4</th>\n",
       "      <td>Iskadarya95</td>\n",
       "      <td>3</td>\n",
       "      <td>4.366667</td>\n",
       "      <td>13.10</td>\n",
       "    </tr>\n",
       "  </tbody>\n",
       "</table>\n",
       "</div>"
      ],
      "text/plain": [
       "         Names  Purchase_count  Average_purchase_price  Total_purchase_value\n",
       "0    Lisosia93               5                3.792000                 18.96\n",
       "1  Idastidru52               4                3.862500                 15.45\n",
       "2   Chamjask73               3                4.610000                 13.83\n",
       "3       Iral74               4                3.405000                 13.62\n",
       "4  Iskadarya95               3                4.366667                 13.10"
      ]
     },
     "execution_count": 86,
     "metadata": {},
     "output_type": "execute_result"
    }
   ],
   "source": [
    "spenders = data[(data['SN']==nombres[0]) | (data['SN']==nombres[1]) | (data['SN']==nombres[2]) | (data['SN']==nombres[3]) | (data['SN']==nombres[4])]\n",
    "grouped_spenders = spenders.groupby(\"SN\")\n",
    "app = grouped_spenders[\"Price\"].mean()\n",
    "average_purchase_price = [app[4],app[1],app[0],app[2],app[3]]\n",
    "purchase_count = [grouped_spenders[\"Price\"].count()[4],grouped_spenders[\"Price\"].count()[1],grouped_spenders[\"Price\"].count()[0],\n",
    "                 grouped_spenders[\"Price\"].count()[2],grouped_spenders[\"Price\"].count()[3]]\n",
    "total_purchase_value = [inter[0],inter[1],inter[2],inter[3],inter[4]]\n",
    "table_spenders = {'Names': nombres, 'Purchase_count': purchase_count, 'Average_purchase_price': average_purchase_price,'Total_purchase_value': total_purchase_value}\n",
    "table_spenders = pd.DataFrame(table_spenders)\n",
    "table_spenders"
   ]
  },
  {
   "cell_type": "markdown",
   "metadata": {},
   "source": [
    "## Most popular items"
   ]
  },
  {
   "cell_type": "code",
   "execution_count": 138,
   "metadata": {},
   "outputs": [
    {
     "name": "stdout",
     "output_type": "stream",
     "text": [
      "['Final Critic', 'Oathbreaker, Last Hope of the Breaking Storm', 'Nirvana', 'Persuasion', 'Fiery Glass Crusader']\n"
     ]
    },
    {
     "data": {
      "text/html": [
       "<div>\n",
       "<style scoped>\n",
       "    .dataframe tbody tr th:only-of-type {\n",
       "        vertical-align: middle;\n",
       "    }\n",
       "\n",
       "    .dataframe tbody tr th {\n",
       "        vertical-align: top;\n",
       "    }\n",
       "\n",
       "    .dataframe thead th {\n",
       "        text-align: right;\n",
       "    }\n",
       "</style>\n",
       "<table border=\"1\" class=\"dataframe\">\n",
       "  <thead>\n",
       "    <tr style=\"text-align: right;\">\n",
       "      <th></th>\n",
       "      <th>Item ID</th>\n",
       "      <th>Item Name</th>\n",
       "      <th>Purchase count</th>\n",
       "      <th>Price</th>\n",
       "      <th>Total purchase value</th>\n",
       "    </tr>\n",
       "  </thead>\n",
       "  <tbody>\n",
       "    <tr>\n",
       "      <th>0</th>\n",
       "      <td>[92, 101]</td>\n",
       "      <td>Final Critic</td>\n",
       "      <td>13</td>\n",
       "      <td>4.614615</td>\n",
       "      <td>59.99</td>\n",
       "    </tr>\n",
       "    <tr>\n",
       "      <th>1</th>\n",
       "      <td>[178]</td>\n",
       "      <td>Oathbreaker, Last Hope of the Breaking Storm</td>\n",
       "      <td>12</td>\n",
       "      <td>4.230000</td>\n",
       "      <td>50.76</td>\n",
       "    </tr>\n",
       "    <tr>\n",
       "      <th>2</th>\n",
       "      <td>[82]</td>\n",
       "      <td>Nirvana</td>\n",
       "      <td>9</td>\n",
       "      <td>4.900000</td>\n",
       "      <td>44.10</td>\n",
       "    </tr>\n",
       "    <tr>\n",
       "      <th>3</th>\n",
       "      <td>[141, 132]</td>\n",
       "      <td>Persuasion</td>\n",
       "      <td>9</td>\n",
       "      <td>3.221111</td>\n",
       "      <td>28.99</td>\n",
       "    </tr>\n",
       "    <tr>\n",
       "      <th>4</th>\n",
       "      <td>[145]</td>\n",
       "      <td>Fiery Glass Crusader</td>\n",
       "      <td>9</td>\n",
       "      <td>4.580000</td>\n",
       "      <td>41.22</td>\n",
       "    </tr>\n",
       "  </tbody>\n",
       "</table>\n",
       "</div>"
      ],
      "text/plain": [
       "      Item ID                                     Item Name  Purchase count  \\\n",
       "0   [92, 101]                                  Final Critic              13   \n",
       "1       [178]  Oathbreaker, Last Hope of the Breaking Storm              12   \n",
       "2        [82]                                       Nirvana               9   \n",
       "3  [141, 132]                                    Persuasion               9   \n",
       "4       [145]                          Fiery Glass Crusader               9   \n",
       "\n",
       "      Price  Total purchase value  \n",
       "0  4.614615                 59.99  \n",
       "1  4.230000                 50.76  \n",
       "2  4.900000                 44.10  \n",
       "3  3.221111                 28.99  \n",
       "4  4.580000                 41.22  "
      ]
     },
     "execution_count": 138,
     "metadata": {},
     "output_type": "execute_result"
    }
   ],
   "source": [
    "popular_items = data.groupby('Item Name')\n",
    "popular = popular_items[\"Item Name\"].count()\n",
    "most_popular = popular.sort_values(ascending = False).head(5)\n",
    "names = most_popular.index.values.tolist()\n",
    "most_popular_items = data[(data['Item Name']==names[0]) | (data['Item Name']==names[1]) | (data['Item Name']==names[2]) |\n",
    "                          (data['Item Name']==names[3]) | (data['Item Name']==names[4])]\n",
    "print(names)\n",
    "most_popular_items_grouped = most_popular_items.groupby('Item Name')\n",
    "most_popular_items_grouped['Item ID'].unique()\n",
    "item_id = [ most_popular_items_grouped['Item ID'].unique()[1], most_popular_items_grouped['Item ID'].unique()[3],\n",
    "          most_popular_items_grouped['Item ID'].unique()[2],most_popular_items_grouped['Item ID'].unique()[4],\n",
    "          most_popular_items_grouped['Item ID'].unique()[0]]\n",
    "purchase_count = most_popular_items_grouped['Item Name'].count()\n",
    "purchase_countf = [purchase_count[1], purchase_count[3],purchase_count[2],purchase_count[4],purchase_count[0]]\n",
    "price = [most_popular_items_grouped['Price'].mean()[1],most_popular_items_grouped['Price'].mean()[3],\n",
    "        most_popular_items_grouped['Price'].mean()[2],most_popular_items_grouped['Price'].mean()[4],\n",
    "        most_popular_items_grouped['Price'].mean()[0]]\n",
    "total_purchase_value = [most_popular_items_grouped['Price'].sum()[1],most_popular_items_grouped['Price'].sum()[3],\n",
    "                       most_popular_items_grouped['Price'].sum()[2],most_popular_items_grouped['Price'].sum()[4],\n",
    "                       most_popular_items_grouped['Price'].sum()[0]]\n",
    "table_mpi = {'Item ID': item_id,'Item Name':names,'Purchase count':purchase_countf,'Price':price,'Total purchase value': total_purchase_value}\n",
    "table_mpi = pd.DataFrame(table_mpi)\n",
    "table_mpi"
   ]
  },
  {
   "cell_type": "markdown",
   "metadata": {},
   "source": [
    "## Most Profitable Items"
   ]
  },
  {
   "cell_type": "code",
   "execution_count": 153,
   "metadata": {},
   "outputs": [
    {
     "name": "stdout",
     "output_type": "stream",
     "text": [
      "['Final Critic', 'Oathbreaker, Last Hope of the Breaking Storm', 'Nirvana', 'Fiery Glass Crusader', 'Singed Scalpel']\n"
     ]
    },
    {
     "data": {
      "text/html": [
       "<div>\n",
       "<style scoped>\n",
       "    .dataframe tbody tr th:only-of-type {\n",
       "        vertical-align: middle;\n",
       "    }\n",
       "\n",
       "    .dataframe tbody tr th {\n",
       "        vertical-align: top;\n",
       "    }\n",
       "\n",
       "    .dataframe thead th {\n",
       "        text-align: right;\n",
       "    }\n",
       "</style>\n",
       "<table border=\"1\" class=\"dataframe\">\n",
       "  <thead>\n",
       "    <tr style=\"text-align: right;\">\n",
       "      <th></th>\n",
       "      <th>Item ID</th>\n",
       "      <th>Item Name</th>\n",
       "      <th>Purchase count</th>\n",
       "      <th>Price</th>\n",
       "      <th>Total purchase value</th>\n",
       "    </tr>\n",
       "  </thead>\n",
       "  <tbody>\n",
       "    <tr>\n",
       "      <th>0</th>\n",
       "      <td>[92, 101]</td>\n",
       "      <td>Final Critic</td>\n",
       "      <td>13</td>\n",
       "      <td>4.614615</td>\n",
       "      <td>59.99</td>\n",
       "    </tr>\n",
       "    <tr>\n",
       "      <th>1</th>\n",
       "      <td>[178]</td>\n",
       "      <td>Oathbreaker, Last Hope of the Breaking Storm</td>\n",
       "      <td>12</td>\n",
       "      <td>4.230000</td>\n",
       "      <td>50.76</td>\n",
       "    </tr>\n",
       "    <tr>\n",
       "      <th>2</th>\n",
       "      <td>[82]</td>\n",
       "      <td>Nirvana</td>\n",
       "      <td>9</td>\n",
       "      <td>4.900000</td>\n",
       "      <td>44.10</td>\n",
       "    </tr>\n",
       "    <tr>\n",
       "      <th>3</th>\n",
       "      <td>[145]</td>\n",
       "      <td>Fiery Glass Crusader</td>\n",
       "      <td>9</td>\n",
       "      <td>4.580000</td>\n",
       "      <td>41.22</td>\n",
       "    </tr>\n",
       "    <tr>\n",
       "      <th>4</th>\n",
       "      <td>[103]</td>\n",
       "      <td>Singed Scalpel</td>\n",
       "      <td>8</td>\n",
       "      <td>4.350000</td>\n",
       "      <td>34.80</td>\n",
       "    </tr>\n",
       "  </tbody>\n",
       "</table>\n",
       "</div>"
      ],
      "text/plain": [
       "     Item ID                                     Item Name  Purchase count  \\\n",
       "0  [92, 101]                                  Final Critic              13   \n",
       "1      [178]  Oathbreaker, Last Hope of the Breaking Storm              12   \n",
       "2       [82]                                       Nirvana               9   \n",
       "3      [145]                          Fiery Glass Crusader               9   \n",
       "4      [103]                                Singed Scalpel               8   \n",
       "\n",
       "      Price  Total purchase value  \n",
       "0  4.614615                 59.99  \n",
       "1  4.230000                 50.76  \n",
       "2  4.900000                 44.10  \n",
       "3  4.580000                 41.22  \n",
       "4  4.350000                 34.80  "
      ]
     },
     "execution_count": 153,
     "metadata": {},
     "output_type": "execute_result"
    }
   ],
   "source": [
    "general_profits = popular_items['Price'].sum()\n",
    "most=general_profits.sort_values(ascending = False).head(5)\n",
    "names1 = most.index.values.tolist()\n",
    "print(names1)\n",
    "most_profitable_items = data[(data['Item Name']==names1[0]) | (data['Item Name']==names1[1]) | \n",
    "                            (data['Item Name']==names1[2]) | (data['Item Name']==names1[3]) | \n",
    "                            (data['Item Name']==names1[4])]\n",
    "most_profitable_items_grouped = most_profitable_items.groupby('Item Name')\n",
    "most_profitable_items_grouped['Item ID'].unique()\n",
    "item_id1 = [ most_profitable_items_grouped['Item ID'].unique()[1], most_profitable_items_grouped['Item ID'].unique()[3],\n",
    "            most_profitable_items_grouped['Item ID'].unique()[2],most_profitable_items_grouped['Item ID'].unique()[0],\n",
    "            most_profitable_items_grouped['Item ID'].unique()[4]]\n",
    "purchase_count1 = most_profitable_items_grouped['Item Name'].count()\n",
    "purchase_countf1 = [purchase_count1[1], purchase_count1[3],purchase_count1[2],purchase_count1[0],purchase_count1[4]]\n",
    "total_purchase_value1 = [most_profitable_items_grouped['Price'].sum()[1],most_profitable_items_grouped['Price'].sum()[3],\n",
    "                       most_profitable_items_grouped['Price'].sum()[2],most_profitable_items_grouped['Price'].sum()[0],\n",
    "                       most_profitable_items_grouped['Price'].sum()[4]]\n",
    "price1 =  [most_profitable_items_grouped['Price'].mean()[1],most_profitable_items_grouped['Price'].mean()[3],\n",
    "                       most_profitable_items_grouped['Price'].mean()[2],most_profitable_items_grouped['Price'].mean()[0],\n",
    "                       most_profitable_items_grouped['Price'].mean()[4]]\n",
    "tablempi =  {'Item ID': item_id1,'Item Name':names1,'Purchase count':purchase_countf1,'Price':price1,'Total purchase value': total_purchase_value1}\n",
    "tablempi = pd.DataFrame(tablempi)\n",
    "tablempi"
   ]
  }
 ],
 "metadata": {
  "kernelspec": {
   "display_name": "Python 3",
   "language": "python",
   "name": "python3"
  },
  "language_info": {
   "codemirror_mode": {
    "name": "ipython",
    "version": 3
   },
   "file_extension": ".py",
   "mimetype": "text/x-python",
   "name": "python",
   "nbconvert_exporter": "python",
   "pygments_lexer": "ipython3",
   "version": "3.7.1"
  }
 },
 "nbformat": 4,
 "nbformat_minor": 2
}
